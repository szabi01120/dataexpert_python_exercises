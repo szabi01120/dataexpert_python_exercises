{
 "cells": [
  {
   "cell_type": "code",
   "execution_count": 48,
   "metadata": {},
   "outputs": [],
   "source": [
    "import numpy as np\n",
    "import pandas as pd"
   ]
  },
  {
   "cell_type": "markdown",
   "metadata": {},
   "source": [
    "Create a Series and assign it to s1a from the integers 8, 6, 7, 5\n",
    "\n",
    "From a dict, create an integer Series and assign it to s1b with values 8, 6, 7, 5 named s1b and a string index 'a', 'b', 'c', and 'd'\n",
    "\n",
    "Convert the s1b values to 64-bit floating point values and assign it to s1c\n",
    "\n",
    "Extract only the values from the s1c as a PandasArray"
   ]
  },
  {
   "cell_type": "code",
   "execution_count": 49,
   "metadata": {},
   "outputs": [
    {
     "data": {
      "text/plain": [
       "<NumpyExtensionArray>\n",
       "[np.float64(8.0), np.float64(6.0), np.float64(7.0), np.float64(5.0)]\n",
       "Length: 4, dtype: float64"
      ]
     },
     "execution_count": 49,
     "metadata": {},
     "output_type": "execute_result"
    }
   ],
   "source": [
    "s1a = pd.Series([8, 6, 7, 5])\n",
    "s1b = pd.Series({'a': 8, 'b': 6, 'c': 7, 'd': 5})\n",
    "\n",
    "s1c = s1b.astype(np.float64)\n",
    "s1c.array"
   ]
  },
  {
   "cell_type": "code",
   "execution_count": 50,
   "metadata": {},
   "outputs": [
    {
     "data": {
      "text/plain": [
       "array([8., 6., 7., 5.])"
      ]
     },
     "execution_count": 50,
     "metadata": {},
     "output_type": "execute_result"
    }
   ],
   "source": [
    "s1c.to_numpy()"
   ]
  },
  {
   "cell_type": "markdown",
   "metadata": {},
   "source": [
    "Exercise:\n",
    "\n",
    "Select the first element of s2 using integer based lookup (iloc).\n",
    "\n",
    "Select the first element of the s2 using label indexing (loc).\n",
    "\n",
    "Select all elements greater than 6 in s2 using a boolean Series"
   ]
  },
  {
   "cell_type": "code",
   "execution_count": 51,
   "metadata": {},
   "outputs": [
    {
     "name": "stdout",
     "output_type": "stream",
     "text": [
      "6\n"
     ]
    }
   ],
   "source": [
    "s2 = pd.Series([6, 8, 7, 5], index=list('abcd'), dtype='Int64')\n",
    "print(s2.iloc[0])"
   ]
  },
  {
   "cell_type": "code",
   "execution_count": 52,
   "metadata": {},
   "outputs": [
    {
     "name": "stdout",
     "output_type": "stream",
     "text": [
      "6\n"
     ]
    }
   ],
   "source": [
    "print(s2.loc['a'])"
   ]
  },
  {
   "cell_type": "code",
   "execution_count": 53,
   "metadata": {},
   "outputs": [
    {
     "data": {
      "text/plain": [
       "b    8\n",
       "c    7\n",
       "dtype: Int64"
      ]
     },
     "execution_count": 53,
     "metadata": {},
     "output_type": "execute_result"
    }
   ],
   "source": [
    "s2.loc[s2 > 6]"
   ]
  },
  {
   "cell_type": "markdown",
   "metadata": {},
   "source": [
    "select all non-null values"
   ]
  },
  {
   "cell_type": "code",
   "execution_count": 54,
   "metadata": {},
   "outputs": [],
   "source": [
    "s3 = pd.Series([9., 100., np.nan, 8., 0.], index=list('ayzed'), dtype='Int64')"
   ]
  },
  {
   "cell_type": "code",
   "execution_count": 55,
   "metadata": {},
   "outputs": [
    {
     "data": {
      "text/plain": [
       "a      9\n",
       "y    100\n",
       "e      8\n",
       "d      0\n",
       "dtype: Int64"
      ]
     },
     "execution_count": 55,
     "metadata": {},
     "output_type": "execute_result"
    }
   ],
   "source": [
    "s3[s3.notnull()]"
   ]
  },
  {
   "cell_type": "code",
   "execution_count": 56,
   "metadata": {},
   "outputs": [
    {
     "data": {
      "text/plain": [
       "a      15\n",
       "b    <NA>\n",
       "c    <NA>\n",
       "d       5\n",
       "e    <NA>\n",
       "y    <NA>\n",
       "z    <NA>\n",
       "dtype: Int64"
      ]
     },
     "execution_count": 56,
     "metadata": {},
     "output_type": "execute_result"
    }
   ],
   "source": [
    "s2 + s3"
   ]
  },
  {
   "cell_type": "markdown",
   "metadata": {},
   "source": [
    "Exercise:\n",
    "\n",
    "    Select the first element of s2 using integer based lookup (iloc).\n",
    "\n",
    "    Select the first element of the s2 using label indexing (loc).\n",
    "\n",
    "    Select all elements greater than 6 in s2 using a boolean Series\n"
   ]
  },
  {
   "cell_type": "code",
   "execution_count": 57,
   "metadata": {},
   "outputs": [],
   "source": [
    "import numpy as np\n",
    "import pandas as pd\n",
    "\n",
    "from IPython.display import Image\n",
    "\n",
    "pd.set_option('display.precision', 2)\n",
    "\n",
    "def image(name, **kwargs):\n",
    "    return Image(filename=f'assets/{name}', retina=True, **kwargs)"
   ]
  },
  {
   "cell_type": "code",
   "execution_count": 58,
   "metadata": {},
   "outputs": [
    {
     "data": {
      "text/html": [
       "\n",
       "<style>\n",
       ".output_png {\n",
       "    display: flex;\n",
       "    justify-content: left;\n",
       "}\n",
       "</style>\n"
      ],
      "text/plain": [
       "<IPython.core.display.HTML object>"
      ]
     },
     "metadata": {},
     "output_type": "display_data"
    }
   ],
   "source": [
    "%%html\n",
    "\n",
    "<style>\n",
    ".output_png {\n",
    "    display: flex;\n",
    "    justify-content: left;\n",
    "}\n",
    "</style>"
   ]
  }
 ],
 "metadata": {
  "kernelspec": {
   "display_name": "Python 3",
   "language": "python",
   "name": "python3"
  },
  "language_info": {
   "codemirror_mode": {
    "name": "ipython",
    "version": 3
   },
   "file_extension": ".py",
   "mimetype": "text/x-python",
   "name": "python",
   "nbconvert_exporter": "python",
   "pygments_lexer": "ipython3",
   "version": "3.12.4"
  }
 },
 "nbformat": 4,
 "nbformat_minor": 2
}

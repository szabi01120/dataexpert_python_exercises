{
 "cells": [
  {
   "cell_type": "code",
   "execution_count": 1,
   "metadata": {},
   "outputs": [],
   "source": [
    "import numpy as np\n",
    "import pandas as pd"
   ]
  },
  {
   "cell_type": "code",
   "execution_count": 3,
   "metadata": {},
   "outputs": [
    {
     "name": "stdout",
     "output_type": "stream",
     "text": [
      "  ticker        date    open\n",
      "0   AAPL  2015-12-30  426.23\n",
      "1   AAPL  2015-12-31  427.81\n",
      "2   MSFT  2015-12-30   42.30\n",
      "3    IBM  2015-12-30  101.65\n",
      "4   YHOO  2015-12-30   35.53\n"
     ]
    }
   ],
   "source": [
    "df = pd.DataFrame({\n",
    "    'ticker': ['AAPL', 'AAPL', 'MSFT', 'IBM', 'YHOO'],\n",
    "    'date': ['2015-12-30', '2015-12-31', '2015-12-30', '2015-12-30', '2015-12-30'],\n",
    "    'open': [426.23, 427.81, 42.3, 101.65, 35.53]\n",
    "})\n",
    "print(df)"
   ]
  },
  {
   "cell_type": "markdown",
   "metadata": {},
   "source": [
    "Exercise:\n",
    "\n",
    "    Select the open column as a Series using attribute lookup\n",
    "    Select the open column as a Series using dict-style lookup\n",
    "    Select the date column as a DataFrame"
   ]
  },
  {
   "cell_type": "code",
   "execution_count": null,
   "metadata": {},
   "outputs": [],
   "source": [
    "print(df.open) #attribute style\n",
    "print(df['open'])  # dict stlye\n",
    "print(df[['open']]) #dataframe"
   ]
  },
  {
   "cell_type": "markdown",
   "metadata": {},
   "source": [
    "Exercise:\n",
    "\n",
    "    Select all rows with the AAPL ticker and the date and open columns.\n",
    "    Assign to the variable df1 a new DataFrame with ticker as the index.\n",
    "    Assign to the variable df2 a new DataFrame with date as the index. Create this DataFrame from df1 with a single statement.\n",
    "    Sort df2 by the index values."
   ]
  },
  {
   "cell_type": "code",
   "execution_count": 15,
   "metadata": {},
   "outputs": [
    {
     "data": {
      "text/html": [
       "<div>\n",
       "<style scoped>\n",
       "    .dataframe tbody tr th:only-of-type {\n",
       "        vertical-align: middle;\n",
       "    }\n",
       "\n",
       "    .dataframe tbody tr th {\n",
       "        vertical-align: top;\n",
       "    }\n",
       "\n",
       "    .dataframe thead th {\n",
       "        text-align: right;\n",
       "    }\n",
       "</style>\n",
       "<table border=\"1\" class=\"dataframe\">\n",
       "  <thead>\n",
       "    <tr style=\"text-align: right;\">\n",
       "      <th></th>\n",
       "      <th>index</th>\n",
       "      <th>ticker</th>\n",
       "      <th>open</th>\n",
       "    </tr>\n",
       "    <tr>\n",
       "      <th>date</th>\n",
       "      <th></th>\n",
       "      <th></th>\n",
       "      <th></th>\n",
       "    </tr>\n",
       "  </thead>\n",
       "  <tbody>\n",
       "    <tr>\n",
       "      <th>2015-12-30</th>\n",
       "      <td>0</td>\n",
       "      <td>AAPL</td>\n",
       "      <td>426.23</td>\n",
       "    </tr>\n",
       "    <tr>\n",
       "      <th>2015-12-30</th>\n",
       "      <td>2</td>\n",
       "      <td>MSFT</td>\n",
       "      <td>42.30</td>\n",
       "    </tr>\n",
       "    <tr>\n",
       "      <th>2015-12-30</th>\n",
       "      <td>3</td>\n",
       "      <td>IBM</td>\n",
       "      <td>101.65</td>\n",
       "    </tr>\n",
       "    <tr>\n",
       "      <th>2015-12-30</th>\n",
       "      <td>4</td>\n",
       "      <td>YHOO</td>\n",
       "      <td>35.53</td>\n",
       "    </tr>\n",
       "    <tr>\n",
       "      <th>2015-12-31</th>\n",
       "      <td>1</td>\n",
       "      <td>AAPL</td>\n",
       "      <td>427.81</td>\n",
       "    </tr>\n",
       "  </tbody>\n",
       "</table>\n",
       "</div>"
      ],
      "text/plain": [
       "            index ticker    open\n",
       "date                            \n",
       "2015-12-30      0   AAPL  426.23\n",
       "2015-12-30      2   MSFT   42.30\n",
       "2015-12-30      3    IBM  101.65\n",
       "2015-12-30      4   YHOO   35.53\n",
       "2015-12-31      1   AAPL  427.81"
      ]
     },
     "execution_count": 15,
     "metadata": {},
     "output_type": "execute_result"
    }
   ],
   "source": [
    "result = df.loc[df.ticker == 'AAPL', ['date', 'open']]\n",
    "# print(result)\n",
    "df1 = df.set_index('ticker')\n",
    "# print(df1)\n",
    "df2 = df.reset_index().set_index('date')\n",
    "# print(df2)\n",
    "df2.sort_index()"
   ]
  },
  {
   "cell_type": "markdown",
   "metadata": {},
   "source": [
    "Exercise:\n",
    "\n",
    "    Create a copy of df called df3. Add a new column of NaNs to df3 called close. Assign close the same value as open for all open values greater than 100.\n",
    "    Sort df3 by its close values."
   ]
  },
  {
   "cell_type": "code",
   "execution_count": 21,
   "metadata": {},
   "outputs": [
    {
     "name": "stdout",
     "output_type": "stream",
     "text": [
      "  ticker        date    open   close\n",
      "0   AAPL  2015-12-30  426.23  426.23\n",
      "1   AAPL  2015-12-31  427.81  427.81\n",
      "2   MSFT  2015-12-30   42.30     NaN\n",
      "3    IBM  2015-12-30  101.65  101.65\n",
      "4   YHOO  2015-12-30   35.53     NaN\n"
     ]
    }
   ],
   "source": [
    "df3 = df.copy()\n",
    "df3['close'] = np.nan\n",
    "# print(df3)\n",
    "\n",
    "df3.close = df3.open[df3.open > 100]\n",
    "print(df3)"
   ]
  }
 ],
 "metadata": {
  "kernelspec": {
   "display_name": "Python 3",
   "language": "python",
   "name": "python3"
  },
  "language_info": {
   "codemirror_mode": {
    "name": "ipython",
    "version": 3
   },
   "file_extension": ".py",
   "mimetype": "text/x-python",
   "name": "python",
   "nbconvert_exporter": "python",
   "pygments_lexer": "ipython3",
   "version": "3.12.4"
  }
 },
 "nbformat": 4,
 "nbformat_minor": 2
}

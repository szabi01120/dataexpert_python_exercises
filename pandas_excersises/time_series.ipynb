{
 "cells": [
  {
   "cell_type": "code",
   "execution_count": 29,
   "metadata": {},
   "outputs": [],
   "source": [
    "import datetime as dt\n",
    "\n",
    "import numpy as np\n",
    "import pandas as pd\n",
    "\n",
    "pd.set_option('display.precision', 2)"
   ]
  },
  {
   "cell_type": "code",
   "execution_count": 30,
   "metadata": {},
   "outputs": [],
   "source": [
    "sp5_df = pd.read_csv(\n",
    "    'data/sp500.csv', usecols=['date', 'adj_close'],\n",
    "    parse_dates=['date']\n",
    ")"
   ]
  },
  {
   "cell_type": "markdown",
   "metadata": {},
   "source": [
    "<h5>Exercise:\n",
    "\n",
    "Create a pandas Timestamp for January 1st, 1993 16:00 (don't worry about timezone).</h5>"
   ]
  },
  {
   "cell_type": "code",
   "execution_count": 31,
   "metadata": {},
   "outputs": [
    {
     "data": {
      "text/plain": [
       "Timestamp('1993-01-01 16:00:00')"
      ]
     },
     "execution_count": 31,
     "metadata": {},
     "output_type": "execute_result"
    }
   ],
   "source": [
    "pd.Timestamp('1993-01-01 16:00')"
   ]
  },
  {
   "cell_type": "markdown",
   "metadata": {},
   "source": [
    "<h5>Exercise:\n",
    "\n",
    "Generate a an Index of:\n",
    "\n",
    "    5 calendar days starting on January 1, 2010.\n",
    "    All US business days (weekdays) starting on January 1, 2010 and ending on January 15, 2010.\n",
    "Hint: You can view the help for a function by running help(function_name), e.g. help(pd.Timestamp). Try looking at the help for pd.date_range.</h5>"
   ]
  },
  {
   "cell_type": "code",
   "execution_count": 32,
   "metadata": {},
   "outputs": [
    {
     "data": {
      "text/plain": [
       "DatetimeIndex(['2010-01-01', '2010-01-02', '2010-01-03', '2010-01-04',\n",
       "               '2010-01-05'],\n",
       "              dtype='datetime64[ns]', freq='D')"
      ]
     },
     "execution_count": 32,
     "metadata": {},
     "output_type": "execute_result"
    }
   ],
   "source": [
    "pd.date_range('2010-01-01', periods=5, freq='D')"
   ]
  },
  {
   "cell_type": "code",
   "execution_count": 33,
   "metadata": {},
   "outputs": [
    {
     "data": {
      "text/plain": [
       "DatetimeIndex(['2010-01-01', '2010-01-04', '2010-01-05', '2010-01-06',\n",
       "               '2010-01-07', '2010-01-08', '2010-01-11', '2010-01-12',\n",
       "               '2010-01-13', '2010-01-14', '2010-01-15'],\n",
       "              dtype='datetime64[ns]', freq='B')"
      ]
     },
     "execution_count": 33,
     "metadata": {},
     "output_type": "execute_result"
    }
   ],
   "source": [
    "pd.date_range(start='2010-01-01', end='2010-01-15', freq='B')"
   ]
  },
  {
   "cell_type": "markdown",
   "metadata": {},
   "source": [
    "<h5>Exercise:\n",
    "\n",
    "    Create a Series named sp5 from the adj_close column sp5_df, using date as the index. Make sure you call sort_index() to make sure the index is sorted.\n",
    "\n",
    "    Hint: The first two parameters of pd.Series are data and index. When both data and index are Series, the index of data is aligned against the values in Series. You can always force positional alignment by converting a Series to an PandasArray (pd.Series.array)\n",
    "</h5>"
   ]
  },
  {
   "cell_type": "code",
   "execution_count": 34,
   "metadata": {},
   "outputs": [
    {
     "data": {
      "text/plain": [
       "date\n",
       "1950-01-03      16.66\n",
       "1950-01-04      16.85\n",
       "1950-01-05      16.93\n",
       "1950-01-06      16.98\n",
       "1950-01-09      17.08\n",
       "               ...   \n",
       "2016-04-06    2066.66\n",
       "2016-04-07    2041.91\n",
       "2016-04-08    2047.60\n",
       "2016-04-11    2041.99\n",
       "2016-04-12    2061.72\n",
       "Name: adj_close, Length: 16676, dtype: float64"
      ]
     },
     "execution_count": 34,
     "metadata": {},
     "output_type": "execute_result"
    }
   ],
   "source": [
    "sp5= pd.Series(\n",
    "    sp5_df.adj_close.array, index=sp5_df.date,\n",
    "    name='adj_close').sort_index()\n",
    "\n",
    "sp5"
   ]
  },
  {
   "cell_type": "markdown",
   "metadata": {},
   "source": [
    "<h5>Exercise:<br />\n",
    "\n",
    "Write 2 different ways to select January 3, 1995 from the sp5 series.<br />\n",
    "\n",
    "There are more than 2 ways to do this, but you only need 2!</h5>"
   ]
  },
  {
   "cell_type": "code",
   "execution_count": 43,
   "metadata": {},
   "outputs": [
    {
     "name": "stdout",
     "output_type": "stream",
     "text": [
      "459.109985\n"
     ]
    }
   ],
   "source": [
    "d1a = sp5['1995-01-03']\n",
    "d1b = sp5.loc['1995-01-03']\n",
    "d1c = sp5['19950103']\n",
    "d1d = sp5[dt.datetime(1995, 1, 3)]\n",
    "print(d1d)"
   ]
  },
  {
   "cell_type": "markdown",
   "metadata": {},
   "source": [
    "<h5>Exercise:\n",
    "\n",
    "Select from sp5 all observations for:\n",
    "\n",
    "March 1995\n",
    "\n",
    "Year of 1995<h5>"
   ]
  },
  {
   "cell_type": "code",
   "execution_count": 45,
   "metadata": {},
   "outputs": [
    {
     "name": "stdout",
     "output_type": "stream",
     "text": [
      "date\n",
      "1995-03-01    485.65\n",
      "1995-03-02    485.13\n",
      "1995-03-03    485.42\n",
      "1995-03-06    485.63\n",
      "1995-03-07    482.12\n",
      "1995-03-08    483.14\n",
      "1995-03-09    483.16\n",
      "1995-03-10    489.57\n",
      "1995-03-13    490.05\n",
      "1995-03-14    492.89\n",
      "1995-03-15    491.88\n",
      "1995-03-16    495.41\n",
      "1995-03-17    495.52\n",
      "1995-03-20    496.14\n",
      "1995-03-21    495.07\n",
      "1995-03-22    495.67\n",
      "1995-03-23    495.95\n",
      "1995-03-24    500.97\n",
      "1995-03-27    503.20\n",
      "1995-03-28    503.90\n",
      "1995-03-29    503.12\n",
      "1995-03-30    502.22\n",
      "1995-03-31    500.71\n",
      "Name: adj_close, dtype: float64\n",
      "date\n",
      "1995-01-03    459.11\n",
      "1995-01-04    460.71\n",
      "1995-01-05    460.34\n",
      "1995-01-06    460.68\n",
      "1995-01-09    460.83\n",
      "               ...  \n",
      "1995-12-22    611.95\n",
      "1995-12-26    614.30\n",
      "1995-12-27    614.53\n",
      "1995-12-28    614.12\n",
      "1995-12-29    615.93\n",
      "Name: adj_close, Length: 252, dtype: float64\n"
     ]
    }
   ],
   "source": [
    "mar_95 = sp5['1995-03']\n",
    "print(mar_95)\n",
    "\n",
    "y_95 = sp5['1995']\n",
    "print(y_95)"
   ]
  },
  {
   "cell_type": "markdown",
   "metadata": {},
   "source": [
    "<h5>Exercise\n",
    "\n",
    "For sp5:\n",
    "\n",
    "Calculate the day-over-day percent change in the values and to assign the result to the variable sp5_rtn.\n",
    "\n",
    "Hint: Use shift</h5>"
   ]
  },
  {
   "cell_type": "code",
   "execution_count": 50,
   "metadata": {},
   "outputs": [
    {
     "name": "stdout",
     "output_type": "stream",
     "text": [
      "date\n",
      "1950-01-03         NaN\n",
      "1950-01-04    1.14e-02\n",
      "1950-01-05    4.75e-03\n",
      "1950-01-06    2.95e-03\n",
      "1950-01-09    5.89e-03\n",
      "                ...   \n",
      "2016-04-06    1.05e-02\n",
      "2016-04-07   -1.20e-02\n",
      "2016-04-08    2.79e-03\n",
      "2016-04-11   -2.74e-03\n",
      "2016-04-12    9.66e-03\n",
      "Name: adj_close, Length: 16676, dtype: float64\n"
     ]
    },
    {
     "data": {
      "text/plain": [
       "date\n",
       "1950-01-03         NaN\n",
       "1950-01-04    1.14e-02\n",
       "1950-01-05    4.75e-03\n",
       "1950-01-06    2.95e-03\n",
       "1950-01-09    5.89e-03\n",
       "                ...   \n",
       "2016-04-06    1.05e-02\n",
       "2016-04-07   -1.20e-02\n",
       "2016-04-08    2.79e-03\n",
       "2016-04-11   -2.74e-03\n",
       "2016-04-12    9.66e-03\n",
       "Name: adj_close, Length: 16676, dtype: float64"
      ]
     },
     "execution_count": 50,
     "metadata": {},
     "output_type": "execute_result"
    }
   ],
   "source": [
    "sp5_rtn = sp5 / sp5.shift(1) - 1\n",
    "print(sp5_rtn)\n",
    "\n",
    "sp5.pct_change()"
   ]
  },
  {
   "cell_type": "markdown",
   "metadata": {},
   "source": [
    "Exercise\n",
    "\n",
    "Resample the data from daily to monthly to calculate average day-over-day percent change."
   ]
  },
  {
   "cell_type": "code",
   "execution_count": 54,
   "metadata": {},
   "outputs": [
    {
     "name": "stdout",
     "output_type": "stream",
     "text": [
      "date\n",
      "1950-01-31    1.18e-03\n",
      "1950-02-28    5.63e-04\n",
      "1950-03-31    1.87e-04\n",
      "1950-04-30    2.02e-03\n",
      "1950-05-31    2.05e-03\n",
      "                ...   \n",
      "2015-12-31   -7.39e-04\n",
      "2016-01-31   -2.63e-03\n",
      "2016-02-29   -1.42e-04\n",
      "2016-03-31    2.93e-03\n",
      "2016-04-30    1.52e-04\n",
      "Freq: ME, Name: adj_close, Length: 796, dtype: float64\n"
     ]
    },
    {
     "name": "stderr",
     "output_type": "stream",
     "text": [
      "C:\\Users\\SzabolcsHajnal\\AppData\\Local\\Temp\\ipykernel_17380\\253305720.py:1: FutureWarning: 'M' is deprecated and will be removed in a future version, please use 'ME' instead.\n",
      "  rtn_monthly = sp5_rtn.resample('M').mean()\n"
     ]
    }
   ],
   "source": [
    "rtn_monthly = sp5_rtn.resample('M').mean()\n",
    "print(rtn_monthly)"
   ]
  }
 ],
 "metadata": {
  "kernelspec": {
   "display_name": "Python 3",
   "language": "python",
   "name": "python3"
  },
  "language_info": {
   "codemirror_mode": {
    "name": "ipython",
    "version": 3
   },
   "file_extension": ".py",
   "mimetype": "text/x-python",
   "name": "python",
   "nbconvert_exporter": "python",
   "pygments_lexer": "ipython3",
   "version": "3.12.4"
  }
 },
 "nbformat": 4,
 "nbformat_minor": 2
}
